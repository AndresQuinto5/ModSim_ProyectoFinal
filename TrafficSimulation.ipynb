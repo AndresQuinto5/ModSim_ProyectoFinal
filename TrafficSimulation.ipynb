{
 "cells": [
  {
   "cell_type": "code",
   "execution_count": null,
   "metadata": {
    "collapsed": true
   },
   "outputs": [],
   "source": [
    "#Importamos librerias de utilidad\n",
    "import numpy as np \n",
    "import pylab as pl\n",
    "import random as rd\n",
    "import copy\n",
    "\n",
    "class TrafficSimulation():\n",
    "    \"\"\"\n",
    "        Simulación de tráfico de carril N basada en Rickert et al. (1996)\n",
    "        y el modelo original de Nagel & Schreckenberg (1992).\n",
    "\n",
    "    \"\"\"\n",
    "\n"
   ]
  }
 ],
 "metadata": {
  "kernelspec": {
   "display_name": "Python 3.7.0 64-bit",
   "language": "python",
   "name": "python3"
  },
  "language_info": {
   "codemirror_mode": {
    "name": "ipython",
    "version": 3
   },
   "file_extension": ".py",
   "mimetype": "text/x-python",
   "name": "python",
   "nbconvert_exporter": "python",
   "pygments_lexer": "ipython3",
   "version": "3.7.0"
  },
  "vscode": {
   "interpreter": {
    "hash": "5109d816b82be14675a6b11f8e0f0d2e80f029176ed3710d54e125caa8520dfd"
   }
  }
 },
 "nbformat": 4,
 "nbformat_minor": 2
}
