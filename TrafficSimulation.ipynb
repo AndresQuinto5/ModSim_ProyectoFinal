{
 "cells": [
  {
   "cell_type": "code",
   "execution_count": null,
   "metadata": {
    "collapsed": true
   },
   "outputs": [],
   "source": [
    "#Importamos librerias de utilidad\n",
    "import numpy as np \n",
    "import pylab as pl\n",
    "import random as rd\n",
    "import copy\n",
    "\n",
    "class TrafficSimulation():\n",
    "    \"\"\"\n",
    "        Simulación de tráfico de carril N basada en Rickert et al. (1996)\n",
    "        y el modelo original de Nagel & Schreckenberg (1992).\n",
    "\n",
    "    \"\"\"\n",
    "\n",
    "    def __init__(self, len_road = 100, density = 0.01, max_vel = 5, \n",
    "                 prob_slowing = 0.5, prob_lane_change = 0.8, lanes = 1):\n",
    "        self.len_road = len_road\n",
    "        self.density = density\n",
    "        self.max_vel = max_vel\n",
    "        self.prob_slowing = prob_slowing\n",
    "        self.prob_lane_change = prob_lane_change\n",
    "        self.lanes = lanes\n",
    "\n",
    "        self.car_counter = 0\n",
    "        self.flow_counter = 0\n",
    "        self.time_counter = 0\n",
    "\n",
    "        self.config = []\n",
    "        self.next_config = []\n",
    "\n",
    "\n",
    "    def initialize(self):\n",
    "        \"\"\"\n",
    "        Establece el estado inicial en función de la densidad y la longitud e\n",
    "        inicia el conteo global de autos.\n",
    "        \"\"\"\n",
    "        for _ in range(self.lanes):\n",
    "            self.config.append(pl.zeros([self.len_road], dtype=int))\n",
    "            self.next_config.append(pl.zeros([self.len_road], dtype=int))\n",
    "\n",
    "        for lane in self.config:\n",
    "            lane.fill(-1)\n",
    "        for lane in self.next_config:\n",
    "            lane.fill(-1)\n",
    "\n",
    "        for state in self.config:\n",
    "            indexes = np.random.choice(range(0, self.len_road),\n",
    "                      size = int(self.density * self.len_road),\n",
    "                      replace = False)\n",
    "            state[indexes] = self.max_vel\n",
    "\n",
    "        self.car_counter = self.count_cars()\n",
    "\n"
   ]
  }
 ],
 "metadata": {
  "kernelspec": {
   "display_name": "Python 3.7.0 64-bit",
   "language": "python",
   "name": "python3"
  },
  "language_info": {
   "codemirror_mode": {
    "name": "ipython",
    "version": 3
   },
   "file_extension": ".py",
   "mimetype": "text/x-python",
   "name": "python",
   "nbconvert_exporter": "python",
   "pygments_lexer": "ipython3",
   "version": "3.7.0"
  },
  "vscode": {
   "interpreter": {
    "hash": "5109d816b82be14675a6b11f8e0f0d2e80f029176ed3710d54e125caa8520dfd"
   }
  }
 },
 "nbformat": 4,
 "nbformat_minor": 2
}
